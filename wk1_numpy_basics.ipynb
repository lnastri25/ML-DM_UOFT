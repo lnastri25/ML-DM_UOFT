{
 "cells": [
  {
   "cell_type": "markdown",
   "metadata": {
    "id": "lDXTpof7Ccj0"
   },
   "source": [
    "# NumPy Basics\n",
    "\n",
    "For this course, we will be using NumPy extensively for coding components. This tutorial intends to give everyone a brief overview of what we can do with NumPy.\n",
    "\n",
    "NumPy is a numerical computing library for Python. \"Nearly every scientist working in Python draws on the power of NumPy\". It is widely used in research and the industry where machine learning, data processing, data analytics, etc. are required.\n",
    "\n",
    "Reference: https://numpy.org/doc/2.1/"
   ]
  },
  {
   "cell_type": "code",
   "execution_count": 2,
   "metadata": {},
   "outputs": [
    {
     "name": "stdout",
     "output_type": "stream",
     "text": [
      "Defaulting to user installation because normal site-packages is not writeable\n",
      "Requirement already satisfied: numpy in c:\\opt\\anaconda3\\envs\\c11\\lib\\site-packages (1.26.4)\n"
     ]
    }
   ],
   "source": [
    "# first install numpy if not already installed\n",
    "!pip install numpy"
   ]
  },
  {
   "cell_type": "code",
   "execution_count": 3,
   "metadata": {
    "id": "ZpIS96hXCcj1"
   },
   "outputs": [],
   "source": [
    "import numpy as np"
   ]
  },
  {
   "cell_type": "markdown",
   "metadata": {
    "id": "2ebDvRo8Ccj1"
   },
   "source": [
    "## N-D Arrays\n",
    "NumPy's main object is the homogeneous multidimensional array. In other words, it is a \"table\" consisting elements of *same type* (usually numbers) that can be indexed by integers. In NumPy, dimensions are known as *axes*. For this course, you will mostly deal with dimensions up to 3."
   ]
  },
  {
   "cell_type": "code",
   "execution_count": 4,
   "metadata": {
    "id": "c1-bbjwGCcj1",
    "outputId": "2318efbf-d4a8-49b9-8841-0a78a7a00a1b"
   },
   "outputs": [
    {
     "name": "stdout",
     "output_type": "stream",
     "text": [
      "[[1 2 3]\n",
      " [2 3 4]]\n",
      "int32\n",
      "(2, 3)\n",
      "2\n",
      "6\n"
     ]
    }
   ],
   "source": [
    "a = np.array([[1, 2, 3],\n",
    "              [2, 3, 4]])\n",
    "\n",
    "print(a)\n",
    "\n",
    "# This checks the type of the array\n",
    "print(a.dtype)\n",
    "\n",
    "# This checks the dimensions (shape) of the array\n",
    "print(a.shape)\n",
    "\n",
    "# This checks the number of dimensions\n",
    "print(a.ndim)\n",
    "\n",
    "# This checks the total number of entries in the array\n",
    "print(a.size)"
   ]
  },
  {
   "cell_type": "markdown",
   "metadata": {
    "id": "hBsYSlO-Ccj1"
   },
   "source": [
    "## Array Creation"
   ]
  },
  {
   "cell_type": "code",
   "execution_count": 5,
   "metadata": {
    "id": "Ct-QMN8OCcj1",
    "outputId": "e2d3122d-94e0-434f-b4cf-9e53a40504aa"
   },
   "outputs": [
    {
     "name": "stdout",
     "output_type": "stream",
     "text": [
      "[[0. 0.]\n",
      " [0. 0.]\n",
      " [0. 0.]\n",
      " [0. 0.]\n",
      " [0. 0.]]\n",
      "[[1. 1.]\n",
      " [1. 1.]\n",
      " [1. 1.]\n",
      " [1. 1.]\n",
      " [1. 1.]]\n",
      "[[10. 10.]\n",
      " [10. 10.]\n",
      " [10. 10.]\n",
      " [10. 10.]\n",
      " [10. 10.]]\n",
      "[[1. 0. 0. 0. 0. 0. 0. 0. 0. 0.]\n",
      " [0. 1. 0. 0. 0. 0. 0. 0. 0. 0.]\n",
      " [0. 0. 1. 0. 0. 0. 0. 0. 0. 0.]\n",
      " [0. 0. 0. 1. 0. 0. 0. 0. 0. 0.]\n",
      " [0. 0. 0. 0. 1. 0. 0. 0. 0. 0.]\n",
      " [0. 0. 0. 0. 0. 1. 0. 0. 0. 0.]\n",
      " [0. 0. 0. 0. 0. 0. 1. 0. 0. 0.]\n",
      " [0. 0. 0. 0. 0. 0. 0. 1. 0. 0.]\n",
      " [0. 0. 0. 0. 0. 0. 0. 0. 1. 0.]\n",
      " [0. 0. 0. 0. 0. 0. 0. 0. 0. 1.]]\n",
      "[ 1  2  3  4  5  6  7  8  9 10]\n",
      "[0.  0.1 0.2 0.3 0.4 0.5 0.6 0.7 0.8 0.9 1. ]\n"
     ]
    }
   ],
   "source": [
    "# Create zero array\n",
    "zero_array = np.zeros(shape=(5, 2))\n",
    "\n",
    "# Create one array\n",
    "one_array = np.ones(shape=(5, 2))\n",
    "\n",
    "# Creating arrays filled with specific values\n",
    "fill_array = np.full(shape=(5, 2), fill_value=10, dtype=np.float32)\n",
    "\n",
    "# Create Identity matrix\n",
    "identity = np.eye(10)\n",
    "\n",
    "# Create an array from 1 to 10\n",
    "seq = np.arange(1, 11)\n",
    "\n",
    "# Create an array from 0 to 1 spaced by 0.1\n",
    "seq_2 = np.arange(0, 1.1, 0.1)\n",
    "\n",
    "print(zero_array)\n",
    "print(one_array)\n",
    "print(fill_array)\n",
    "print(identity)\n",
    "print(seq)\n",
    "print(seq_2)"
   ]
  },
  {
   "cell_type": "markdown",
   "metadata": {
    "id": "6tswvuxMCcj1"
   },
   "source": [
    "## Shape Manipulation and Indexing\n",
    "### 2D arrays"
   ]
  },
  {
   "cell_type": "code",
   "execution_count": 6,
   "metadata": {
    "id": "mciKlxUGCcj1",
    "outputId": "7ea78033-6298-476e-a60e-cf5a2e33b478",
    "scrolled": true
   },
   "outputs": [
    {
     "name": "stdout",
     "output_type": "stream",
     "text": [
      "[ 1  2  3  4  5  6  7  8  9 10 11 12]\n",
      "[[ 1  2  3]\n",
      " [ 4  5  6]\n",
      " [ 7  8  9]\n",
      " [10 11 12]]\n",
      "[[ 1  4  7 10]\n",
      " [ 2  5  8 11]\n",
      " [ 3  6  9 12]]\n",
      "4\n",
      "[ 1  4  7 10]\n",
      "[7 8 9]\n",
      "[[ 1  7 10]\n",
      " [ 2  8 11]\n",
      " [ 3  9 12]]\n",
      "[ 7 10  5  8 11  6  9 12]\n"
     ]
    }
   ],
   "source": [
    "seq = np.arange(1, 13)\n",
    "print(seq)\n",
    "\n",
    "# Reshape to a 2D array of shape (4, 3)\n",
    "# Note that the new shape needs to match the number of elements in the array\n",
    "reshaped_seq = seq.reshape((4, 3))\n",
    "print(reshaped_seq)\n",
    "\n",
    "# Transpose a 2D array\n",
    "reshaped_seq = reshaped_seq.T\n",
    "print(reshaped_seq)\n",
    "\n",
    "# Take first row, second column of reshaped_seq\n",
    "print(reshaped_seq[0, 1])\n",
    "\n",
    "# Take first row\n",
    "print(reshaped_seq[0])\n",
    "\n",
    "# Take third column\n",
    "print(reshaped_seq[:, 2])\n",
    "\n",
    "# Take columns 0, 2, 3 of all rows\n",
    "print(reshaped_seq[:, [0, 2, 3]])\n",
    "\n",
    "# You can take elements based on conditions (advance indexing)\n",
    "# Take elements greater than 4 (then flatten the array)\n",
    "print(reshaped_seq[reshaped_seq > 4])"
   ]
  },
  {
   "cell_type": "markdown",
   "metadata": {
    "id": "azXtAvy2Ccj2"
   },
   "source": [
    "### Higher Dimensional Arrays\n",
    "It is important to get comfortable with multidimensional arrays with dimension > 2.\n",
    "In this case, we will refer each dimension using index notation\n",
    "```\n",
    "(d_0, d_1, d_2, ..., d_n)\n",
    "```\n",
    "\n",
    "Please make sure you understand how these work! You will be able to write elegant and efficient code with this!"
   ]
  },
  {
   "cell_type": "code",
   "execution_count": 7,
   "metadata": {
    "id": "g7s05O_RCcj2",
    "outputId": "1faf3947-5ac2-4ae9-cb53-36b4f5aa0fba"
   },
   "outputs": [
    {
     "name": "stdout",
     "output_type": "stream",
     "text": [
      "[[[ 1  2  3]\n",
      "  [ 4  5  6]]\n",
      "\n",
      " [[ 7  8  9]\n",
      "  [10 11 12]]]\n",
      "[[[ 1  7]\n",
      "  [ 4 10]]\n",
      "\n",
      " [[ 2  8]\n",
      "  [ 5 11]]\n",
      "\n",
      " [[ 3  9]\n",
      "  [ 6 12]]]\n",
      "[[ 1  7]\n",
      " [ 4 10]]\n",
      "[[1 7]\n",
      " [2 8]\n",
      " [3 9]]\n",
      "[[1 4]\n",
      " [2 5]\n",
      " [3 6]]\n",
      "[ 9 12]\n",
      "[ 7 10  8  5 11  9  6 12]\n"
     ]
    }
   ],
   "source": [
    "# Reshape to a 3D array of shape (2, 2, 3)\n",
    "reshaped_seq = seq.reshape((2, 2, 3))\n",
    "print(reshaped_seq)\n",
    "\n",
    "# Transpose an array. You can consider this as swapping axes\n",
    "# Swap first and last axes\n",
    "reshaped_seq = reshaped_seq.transpose(2, 1, 0)\n",
    "print(reshaped_seq)\n",
    "\n",
    "# Take first d_0\n",
    "print(reshaped_seq[0])\n",
    "\n",
    "# Take first d_1\n",
    "print(reshaped_seq[:, 0])\n",
    "\n",
    "# Take first d_2\n",
    "print(reshaped_seq[..., 0])\n",
    "\n",
    "# Take third d_0 and second d_2\n",
    "print(reshaped_seq[2, :, 1])\n",
    "\n",
    "# You can take elements based on conditions (advance indexing)\n",
    "# Take elements greater than 4\n",
    "print(reshaped_seq[reshaped_seq > 4])"
   ]
  },
  {
   "cell_type": "markdown",
   "metadata": {
    "id": "Tg1BJ_n_Ccj2"
   },
   "source": [
    "## Math Operations"
   ]
  },
  {
   "cell_type": "code",
   "execution_count": 10,
   "metadata": {
    "id": "OsKoCuJRCcj2",
    "outputId": "50ccc5cc-fea5-4355-fe33-bda3ac0a0e80"
   },
   "outputs": [
    {
     "name": "stdout",
     "output_type": "stream",
     "text": [
      "[[0.  1.1]\n",
      " [2.2 3.3]\n",
      " [4.4 5.5]\n",
      " [6.6 7.7]\n",
      " [8.8 9.9]]\n",
      "[[0.  0.1]\n",
      " [0.4 0.9]\n",
      " [1.6 2.5]\n",
      " [3.6 4.9]\n",
      " [6.4 8.1]]\n",
      "[[nan 10.]\n",
      " [10. 10.]\n",
      " [10. 10.]\n",
      " [10. 10.]\n",
      " [10. 10.]]\n",
      "[[1.         1.        ]\n",
      " [1.14869835 1.39038917]\n",
      " [1.74110113 2.23606798]\n",
      " [2.93015605 3.90452878]\n",
      " [5.27803164 7.22467406]]\n",
      "[[ 0.1  0.3  0.5  0.7  0.9]\n",
      " [ 0.3  1.3  2.3  3.3  4.3]\n",
      " [ 0.5  2.3  4.1  5.9  7.7]\n",
      " [ 0.7  3.3  5.9  8.5 11.1]\n",
      " [ 0.9  4.3  7.7 11.1 14.5]]\n",
      "[[ 0.1  0.3  0.5  0.7  0.9]\n",
      " [ 0.3  1.3  2.3  3.3  4.3]\n",
      " [ 0.5  2.3  4.1  5.9  7.7]\n",
      " [ 0.7  3.3  5.9  8.5 11.1]\n",
      " [ 0.9  4.3  7.7 11.1 14.5]]\n"
     ]
    },
    {
     "name": "stderr",
     "output_type": "stream",
     "text": [
      "C:\\Users\\yqhua\\AppData\\Local\\Temp\\ipykernel_480\\2116182931.py:11: RuntimeWarning: invalid value encountered in divide\n",
      "  print(a / b)\n"
     ]
    }
   ],
   "source": [
    "a = np.arange(0, 10).reshape(5, 2)\n",
    "b = np.arange(0, 1.0, 0.1).reshape(5, 2)\n",
    "\n",
    "# Element-wise addition\n",
    "print(a + b)\n",
    "\n",
    "# Element-wise multiplication\n",
    "print(a * b)\n",
    "\n",
    "# Element-wise division\n",
    "print(a / b)\n",
    "\n",
    "# Element-wise exponential\n",
    "print(a ** b)\n",
    "\n",
    "# Matrix multiplication\n",
    "print(a @ b.T)\n",
    "print(np.matmul(a, b.T))"
   ]
  },
  {
   "cell_type": "markdown",
   "metadata": {
    "id": "4wUoj_VcCcj2"
   },
   "source": [
    "### Higher Dimensional Arrays\n",
    "Most operations are the same in higher dimensional arrays. But you might be curious about how we can perform matrix multiplcation (if we can)."
   ]
  },
  {
   "cell_type": "code",
   "execution_count": 14,
   "metadata": {
    "id": "IfKRon7gCcj2",
    "outputId": "b2afaa9c-eb1b-4730-fc08-7185b7f370c0"
   },
   "outputs": [
    {
     "name": "stdout",
     "output_type": "stream",
     "text": [
      "[[[  0.5   1.4]\n",
      "  [  1.4   5. ]]\n",
      "\n",
      " [[ 14.9  21.2]\n",
      "  [ 21.2  30.2]]\n",
      "\n",
      " [[ 50.9  62.6]\n",
      "  [ 62.6  77. ]]\n",
      "\n",
      " [[108.5 125.6]\n",
      "  [125.6 145.4]]]\n",
      "[[[  0.5   1.4]\n",
      "  [  1.4   5. ]]\n",
      "\n",
      " [[ 14.9  21.2]\n",
      "  [ 21.2  30.2]]\n",
      "\n",
      " [[ 50.9  62.6]\n",
      "  [ 62.6  77. ]]\n",
      "\n",
      " [[108.5 125.6]\n",
      "  [125.6 145.4]]]\n"
     ]
    }
   ],
   "source": [
    "a = np.arange(0, 24).reshape(4, 2, 3)\n",
    "b = np.arange(0, 2.4, 0.1).reshape(4, 2, 3)\n",
    "\n",
    "# You can perform batch matrix multiplcation\n",
    "# This treats the 3D arrays as d_0 2D arrays, and perform matrix multiplication for each i = 1, ..., d_0\n",
    "print(a @ b.transpose(0, 2, 1))\n",
    "print(np.matmul(a, b.transpose(0, 2, 1))) # the permutation of axes specifies how to transpose"
   ]
  },
  {
   "cell_type": "markdown",
   "metadata": {},
   "source": [
    "## Broadcasting\n",
    "\n",
    "Broadcasting is a powerful mechanism that allows numpy to work with arrays of different shapes when performing arithmetic operations. Frequently we have a smaller array and a larger array, and we want to use the smaller array multiple times to perform some operation on the larger array.\n",
    "\n",
    "For example, suppose that we want to add a constant vector to each row of a matrix. We could do it like this:"
   ]
  },
  {
   "cell_type": "code",
   "execution_count": 15,
   "metadata": {},
   "outputs": [
    {
     "name": "stdout",
     "output_type": "stream",
     "text": [
      "[[ 2  2  4]\n",
      " [ 5  5  7]\n",
      " [ 8  8 10]\n",
      " [11 11 13]]\n"
     ]
    }
   ],
   "source": [
    "# We will add the vector v to each row of the matrix x,\n",
    "# storing the result in the matrix y\n",
    "x = np.array([[1,2,3], [4,5,6], [7,8,9], [10, 11, 12]])\n",
    "v = np.array([1, 0, 1])\n",
    "y = np.empty_like(x)   # Create an empty matrix with the same shape as x\n",
    "\n",
    "# Add the vector v to each row of the matrix x with an explicit loop\n",
    "for i in range(4):\n",
    "    y[i, :] = x[i, :] + v\n",
    "\n",
    "print(y)"
   ]
  },
  {
   "cell_type": "markdown",
   "metadata": {},
   "source": [
    "This works; however when the matrix `x` is very large, computing an explicit loop in Python could be slow. Note that adding the vector v to each row of the matrix `x` is equivalent to forming a matrix `vv` by stacking multiple copies of `v` vertically, then performing elementwise summation of `x` and `vv`. We could implement this approach like this:"
   ]
  },
  {
   "cell_type": "code",
   "execution_count": 16,
   "metadata": {},
   "outputs": [
    {
     "name": "stdout",
     "output_type": "stream",
     "text": [
      "[[1 0 1]\n",
      " [1 0 1]\n",
      " [1 0 1]\n",
      " [1 0 1]]\n",
      "[[ 2  2  4]\n",
      " [ 5  5  7]\n",
      " [ 8  8 10]\n",
      " [11 11 13]]\n"
     ]
    }
   ],
   "source": [
    "vv = np.tile(v, (4, 1))  # Stack 4 copies of v on top of each other\n",
    "print(vv)                # Prints \"[[1 0 1]\n",
    "                         #          [1 0 1]\n",
    "                         #          [1 0 1]\n",
    "                         #          [1 0 1]]\"\n",
    "\n",
    "y = x + vv  # Add x and vv elementwise\n",
    "print(y)"
   ]
  },
  {
   "cell_type": "markdown",
   "metadata": {},
   "source": [
    "Numpy broadcasting allows us to perform this computation without actually creating multiple copies of v. Consider this version, using broadcasting:"
   ]
  },
  {
   "cell_type": "code",
   "execution_count": 17,
   "metadata": {},
   "outputs": [
    {
     "name": "stdout",
     "output_type": "stream",
     "text": [
      "[[ 2  2  4]\n",
      " [ 5  5  7]\n",
      " [ 8  8 10]\n",
      " [11 11 13]]\n"
     ]
    }
   ],
   "source": [
    "import numpy as np\n",
    "\n",
    "# We will add the vector v to each row of the matrix x,\n",
    "# storing the result in the matrix y\n",
    "x = np.array([[1,2,3], [4,5,6], [7,8,9], [10, 11, 12]])\n",
    "v = np.array([1, 0, 1])\n",
    "y = x + v  # Add v to each row of x using broadcasting\n",
    "print(y)"
   ]
  },
  {
   "cell_type": "markdown",
   "metadata": {},
   "source": [
    "The line `y = x + v` works even though `x` has shape `(4, 3)` and `v` has shape `(3,)` due to broadcasting; this line works as if v actually had shape `(4, 3)`, where each row was a copy of `v`, and the sum was performed elementwise.\n",
    "\n",
    "Broadcasting two arrays together follows these rules:\n",
    "\n",
    "1. If the arrays do not have the same rank, prepend the shape of the lower rank array with 1s until both shapes have the same length.\n",
    "2. The two arrays are said to be compatible in a dimension if they have the same size in the dimension, or if one of the arrays has size 1 in that dimension.\n",
    "3. The arrays can be broadcast together if they are compatible in all dimensions.\n",
    "4. After broadcasting, each array behaves as if it had shape equal to the elementwise maximum of shapes of the two input arrays.\n",
    "5. In any dimension where one array had size 1 and the other array had size greater than 1, the first array behaves as if it were copied along that dimension\n",
    "\n",
    "If this explanation does not make sense, try reading the explanation from the [documentation](http://docs.scipy.org/doc/numpy/user/basics.broadcasting.html) or this [explanation](http://wiki.scipy.org/EricsBroadcastingDoc)."
   ]
  },
  {
   "cell_type": "markdown",
   "metadata": {},
   "source": [
    "Here are some applications of broadcasting:"
   ]
  },
  {
   "cell_type": "code",
   "execution_count": 18,
   "metadata": {},
   "outputs": [
    {
     "name": "stdout",
     "output_type": "stream",
     "text": [
      "[[ 4  5]\n",
      " [ 8 10]\n",
      " [12 15]]\n"
     ]
    }
   ],
   "source": [
    "# Compute outer product of vectors\n",
    "v = np.array([1,2,3])  # v has shape (3,)\n",
    "w = np.array([4,5])    # w has shape (2,)\n",
    "# To compute an outer product, we first reshape v to be a column\n",
    "# vector of shape (3, 1); we can then broadcast it against w to yield\n",
    "# an output of shape (3, 2), which is the outer product of v and w:\n",
    "\n",
    "print(np.reshape(v, (3, 1)) * w)"
   ]
  },
  {
   "cell_type": "code",
   "execution_count": 19,
   "metadata": {},
   "outputs": [
    {
     "name": "stdout",
     "output_type": "stream",
     "text": [
      "[[2 4 6]\n",
      " [5 7 9]]\n"
     ]
    }
   ],
   "source": [
    "# Add a vector to each row of a matrix\n",
    "x = np.array([[1,2,3], [4,5,6]])\n",
    "# x has shape (2, 3) and v has shape (3,) so they broadcast to (2, 3),\n",
    "# giving the following matrix:\n",
    "\n",
    "print(x + v)"
   ]
  },
  {
   "cell_type": "code",
   "execution_count": 20,
   "metadata": {},
   "outputs": [
    {
     "name": "stdout",
     "output_type": "stream",
     "text": [
      "[[ 2  4  6]\n",
      " [ 8 10 12]]\n"
     ]
    }
   ],
   "source": [
    "# Multiply a matrix by a constant:\n",
    "# x has shape (2, 3). Numpy treats scalars as arrays of shape ();\n",
    "# these can be broadcast together to shape (2, 3), producing the\n",
    "# following array:\n",
    "print(x * 2)"
   ]
  },
  {
   "cell_type": "markdown",
   "metadata": {
    "id": "J5u_wUvbCcj2"
   },
   "source": [
    "## Some other Tricks"
   ]
  },
  {
   "cell_type": "code",
   "execution_count": null,
   "metadata": {
    "id": "ZcNxFq0DCcj2",
    "outputId": "92273be4-a431-4e34-ce4e-8e4147faf669"
   },
   "outputs": [],
   "source": [
    "a = np.arange(10)\n",
    "b = np.arange(20).reshape(2, 10, 1)\n",
    "\n",
    "# Say you want to do matrix multiplcation between b and a,\n",
    "# but clearly a is an axis short. We can \"expand dimension\" quickly\n",
    "print(b @ a.reshape((1, 10)))\n",
    "print(b @ a[None, ...])\n",
    "\n",
    "# If you want to apply a vector of exponents onto a single scalar\n",
    "a = 10\n",
    "b = np.arange(3)\n",
    "print(a ** b)\n",
    "\n",
    "# Create one-hot encoding\n",
    "# Say you want a one-hot encoding such that vector is in R^5, and the fourth element is 1\n",
    "print(np.eye(5)[3])"
   ]
  },
  {
   "cell_type": "markdown",
   "metadata": {
    "id": "gjeuAYrCCcj2"
   },
   "source": [
    "## Common types\n",
    "Depending on the situation, you may prefer one type over the other. Here is the list of most commonly used types:\n",
    "```\n",
    "np.uint8\n",
    "np.int32\n",
    "np.int64\n",
    "np.float32\n",
    "np.float64\n",
    "np.bool\n",
    "```\n",
    "\n",
    "Understanding which type to use based on the context is important as you deal with large datasets. Imagine a 84x84 RGB image (i.e. `shape=(84, 84, 3)`). Storing 10000 images in `np.float64` will take up approximately 1.577GB of memory, whereas `np.uint8` only takes up approximately 197MB."
   ]
  },
  {
   "cell_type": "code",
   "execution_count": 13,
   "metadata": {
    "id": "swQdOOjVCcj2",
    "outputId": "997ae08e-a417-4c59-87fd-be8757ef0cec"
   },
   "outputs": [
    {
     "name": "stdout",
     "output_type": "stream",
     "text": [
      "[[1. 2. 3.]\n",
      " [2. 3. 4.]]\n",
      "float32\n"
     ]
    }
   ],
   "source": [
    "# You can enforce the type of a numpy array\n",
    "a = np.array([[1, 2, 3],\n",
    "              [2, 3, 4]],\n",
    "             np.float32)\n",
    "\n",
    "print(a)\n",
    "print(a.dtype)"
   ]
  },
  {
   "cell_type": "markdown",
   "metadata": {
    "id": "9QZYI15UCcj2"
   },
   "source": [
    "## NaN and Inf\n",
    "For different scenarios, you may encounter `nan` (Not a Number) and `inf` (Infinity) values.\n",
    "`nan` usually occurs when your function input is not part of the function domain (e.g. log of a negative value).\n",
    "`inf` usually occurs when your function computes a number that is too large (e.g. e^x)."
   ]
  },
  {
   "cell_type": "code",
   "execution_count": 12,
   "metadata": {
    "id": "rvB2BrMvCcj2",
    "outputId": "2b403fcc-9898-4ab9-a43e-c25add1798cd"
   },
   "outputs": [
    {
     "name": "stdout",
     "output_type": "stream",
     "text": [
      "nan\n",
      "nan\n",
      "inf\n"
     ]
    },
    {
     "name": "stderr",
     "output_type": "stream",
     "text": [
      "C:\\Users\\yqhua\\AppData\\Local\\Temp\\ipykernel_480\\204965167.py:1: RuntimeWarning: invalid value encountered in log\n",
      "  print(np.log(-1))\n",
      "C:\\Users\\yqhua\\AppData\\Local\\Temp\\ipykernel_480\\204965167.py:2: RuntimeWarning: invalid value encountered in divide\n",
      "  print(np.array(0.) / np.array(0.))\n",
      "C:\\Users\\yqhua\\AppData\\Local\\Temp\\ipykernel_480\\204965167.py:3: RuntimeWarning: overflow encountered in exp\n",
      "  print(np.exp(1000))\n"
     ]
    }
   ],
   "source": [
    "print(np.log(-1))\n",
    "print(np.array(0.) / np.array(0.))\n",
    "print(np.exp(1000))"
   ]
  },
  {
   "cell_type": "markdown",
   "metadata": {
    "id": "mv4gyjNlCcj2"
   },
   "source": [
    "# Final Words\n",
    "Read [here](https://numpy.org/doc/2.1/user/quickstart.html) for more tutorials! They are short and concise"
   ]
  },
  {
   "cell_type": "code",
   "execution_count": null,
   "metadata": {
    "id": "-BGeJPbxCcj2"
   },
   "outputs": [],
   "source": []
  }
 ],
 "metadata": {
  "colab": {
   "provenance": []
  },
  "kernelspec": {
   "display_name": "Python 3 (Spyder)",
   "language": "python3",
   "name": "python3"
  },
  "language_info": {
   "codemirror_mode": {
    "name": "ipython",
    "version": 3
   },
   "file_extension": ".py",
   "mimetype": "text/x-python",
   "name": "python",
   "nbconvert_exporter": "python",
   "pygments_lexer": "ipython3",
   "version": "3.11.5"
  }
 },
 "nbformat": 4,
 "nbformat_minor": 4
}
